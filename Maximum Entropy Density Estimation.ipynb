{
 "cells": [
  {
   "cell_type": "markdown",
   "metadata": {},
   "source": [
    "## Восстановление ф-ии плотности вероятности. \n",
    "\n",
    "### Принцип максимума энтропии.\n",
    "\n",
    "Основная задача - создать такую модель случайного процесса, которая максимально бы соответствовала наблюдаемым значением этой случайной величины.\n",
    "\n",
    "Существует большое число методов оценки ф-ии плотности распределения. В этой заметке будет рассмотрен метод максимума энтропии. Основная идея заключается в следующем: если выводы основываются на неполной информации, она должна выбираться из распределения вероятности, максимизируещего энтропию при заданных ограничениях на распределение. Таким образом энтропия является функционалом, заданном на некотором множестве возможных распределений.\n",
    "\n",
    "Наша задача нахождения оптимального с точки зрения энтропии распределения сводится к вариационной задаче оптимизации следующего функционала:\n",
    "\n",
    "$$h(X) = - \\int_{-\\infty}^{\\infty} f_{X}(x) log (f_{X}(x)) \\,dx$$\n",
    "\n",
    "при следующих заданных ограничениях:\n",
    "\n",
    "$$\\int_{-\\infty}^{\\infty} f_{X}(x) \\,dx = 1$$\n",
    "\n",
    "$$\\int_{-\\infty}^{\\infty} f_{X}(x) g_{i}(x) \\,dx = \\alpha_{i}$$\n",
    "\n",
    "Используя метод Лагранжа для для решения этой задачи условной оптимизации, получаем следующий вид функционала:\n",
    "\n",
    "$$J(f) = \\int_{-\\infty}^{\\infty} \\left[ -f_{X}(x)log(f_{X}(x)) + \\lambda_0 f_{X}(x) + \\sum_{i=1}^{m} \\lambda_i g_i(x) f_{X}(x) \\right] \\,dx$$\n",
    "\n",
    "Дифференцируем интеграл по $f_{X}(x)$ и приравниваем нулю, получаем:\n",
    "\n",
    "$$-1 - log(f_{X}(x)) + \\lambda_0 + \\sum_{i=1}^{m} \\lambda_i g_i(x) = 0$$\n",
    "\n",
    "Выражаем $f_{X}(x)$:\n",
    "\n",
    "$$f_{X}(x) = \\exp(-1 + \\lambda_0 + \\sum_{i=1}^{m} \\lambda_i g_i(x))$$\n",
    "\n",
    "Таким образом мы получили параметрический вид распределения, соответствующего принципу максимальной энтропии. Конкретный вид распределения зависит от выбора параметров $\\lambda_i$. Для поиска оптимальных значений $\\lambda_i$ с точки зрения соответствия $k$ наблюдаемым значениям $u_n$ будем использовать принцип максимального правдоподобия, функционал для которого выглядит следующим образом:\n",
    "\n",
    "$$L(\\lambda) = \\sum_{n = 0}^{k - 1} ln (f_{X}(u_n))$$\n",
    "\n",
    "Требуется найти $\\lambda$, для которых $L(\\lambda)$ максимальна при выполнении ограничения на нормировку $\\int_{-\\infty}^{\\infty} f_{X}(x) \\,dx = 1$\n",
    "\n",
    "### Теперь мы готовы поработать ручками :)\n",
    "\n",
    "Реализуем класс для модели нашего распределения (ExpPolyDistribution). \n",
    "\n",
    "Пусть состояние модели определяется двумя массивами:\n",
    "\n",
    "    - restrictions: список функций ограничений\n",
    "    - lambdas: вектор параметров модели\n",
    "    \n",
    "Для максимизации функционала при условии заданных ограничений будем использовать [метод последовательного квадратичного программирования](https://docs.scipy.org/doc/scipy/reference/tutorial/optimize.html)."
   ]
  },
  {
   "cell_type": "code",
   "execution_count": 1,
   "metadata": {
    "collapsed": true
   },
   "outputs": [],
   "source": [
    "import numpy as np\n",
    "\n",
    "import scipy.integrate as integrate\n",
    "\n",
    "from scipy.optimize.slsqp import approx_jacobian\n",
    "from scipy.optimize import minimize\n",
    "from scipy.optimize.slsqp import _epsilon\n",
    "\n",
    "def jac_factory(fun, epsilon):\n",
    "    \"\"\"\n",
    "    Creates function for numerical jacobian approximation.\n",
    "\n",
    "    :param fun: Function for evaluation.\n",
    "    :param epsilon: The perturbation used to determine the partial derivatives.\n",
    "    :return: Function for numerical jacobian approximation.\n",
    "    \"\"\"\n",
    "    def jac(x, *args):\n",
    "        return approx_jacobian(x, fun, epsilon, *args)\n",
    "    return jac\n",
    "\n",
    "class ExpPolyDistribution:\n",
    "\n",
    "    def __init__(self, restrictions, lambdas=None):\n",
    "\n",
    "        if restrictions is None:\n",
    "            raise ValueError(\"restrictions is mandatory param\")\n",
    "        if lambdas is None:\n",
    "            lambdas = np.zeros(len(restrictions) + 1)\n",
    "        if len(lambdas) - 1 != len(restrictions):\n",
    "            raise ValueError(\"Lambdas params number should be as restrictions plus one\")\n",
    "\n",
    "        self.lambdas = lambdas\n",
    "        self.restrictions = np.concatenate(([lambda x: 1], restrictions), axis=0)\n",
    "\n",
    "    def pdf(self, x):\n",
    "        return self.__pdf(x, self.lambdas)\n",
    "\n",
    "    def log_likelihood(self, observations):\n",
    "            return -self.__inv_log_likelihood(self.lambdas, observations)\n",
    "\n",
    "    def fit(self, X):\n",
    "\n",
    "        # Lets integration interval to be hardcoded\n",
    "        a, b = -50, 50\n",
    "\n",
    "        constraints = (\n",
    "            # Probability of entire sample space is equal to one\n",
    "            {\n",
    "                'type': 'eq',\n",
    "                'fun' : lambda lambdas: np.array([integrate.quad(lambda x: self.__pdf([x], lambdas)[0], a, b)[0] - 1])\n",
    "            }\n",
    "        )\n",
    "\n",
    "        result = minimize(\n",
    "                self.__inv_log_likelihood, self.lambdas, args=(X,),\n",
    "                jac=jac_factory(self.__inv_log_likelihood, _epsilon),\n",
    "                constraints=constraints, method='SLSQP', options={'disp': True}\n",
    "        )\n",
    "\n",
    "        self.lambdas = result.x\n",
    "        return self\n",
    "\n",
    "    def __pdf(self, x, lambdas):\n",
    "        qp_pdf = lambda p: np.exp(\n",
    "            -1 + sum(list(map(lambda fx_tuple: fx_tuple[1] * fx_tuple[0](p), zip(self.restrictions, lambdas))))\n",
    "        )\n",
    "        return list(map(qp_pdf, x))\n",
    "\n",
    "    def __inv_log_likelihood(self, lambdas, observations):\n",
    "            return -np.sum(np.log(self.__pdf(observations, lambdas)))\n",
    "\n"
   ]
  },
  {
   "cell_type": "markdown",
   "metadata": {},
   "source": [
    "### Теперь пора проверить какие мы молодцы и все ли сделано правильно.\n",
    "\n",
    "Сгенерируем 30 случайных величин используя нормальное распределение со средним 2 и дисперсией 1."
   ]
  },
  {
   "cell_type": "code",
   "execution_count": 2,
   "metadata": {
    "collapsed": false
   },
   "outputs": [],
   "source": [
    "nr = np.random.chisquare(10, 20)"
   ]
  },
  {
   "cell_type": "markdown",
   "metadata": {},
   "source": [
    "Зададим ограничения на первый и второй момент для нашей модели."
   ]
  },
  {
   "cell_type": "code",
   "execution_count": 3,
   "metadata": {
    "collapsed": true
   },
   "outputs": [],
   "source": [
    "restrictions1 = [\n",
    "    lambda x: x,\n",
    "    lambda x: x**2,\n",
    "    lambda x: x**3\n",
    "]\n",
    "\n",
    "restrictions2 = [\n",
    "    lambda x: x,\n",
    "    lambda x: x**2,\n",
    "    lambda x: x**3,\n",
    "    lambda x: x**4\n",
    "]"
   ]
  },
  {
   "cell_type": "markdown",
   "metadata": {},
   "source": [
    "Создадим нашу модель с заданными ограничениями и обучим ее."
   ]
  },
  {
   "cell_type": "code",
   "execution_count": 4,
   "metadata": {
    "collapsed": false
   },
   "outputs": [
    {
     "name": "stdout",
     "output_type": "stream",
     "text": [
      "Optimization terminated successfully.    (Exit mode 0)\n",
      "            Current function value: 52.7354141216\n",
      "            Iterations: 46\n",
      "            Function evaluations: 92\n",
      "            Gradient evaluations: 46\n",
      "Iteration limit exceeded    (Exit mode 9)\n",
      "            Current function value: 48.5734227487\n",
      "            Iterations: 101\n",
      "            Function evaluations: 606\n",
      "            Gradient evaluations: 101\n"
     ]
    }
   ],
   "source": [
    "np.seterr(over='ignore')\n",
    "ep_distr1 = ExpPolyDistribution(restrictions1)\n",
    "ep_distr2 = ExpPolyDistribution(restrictions2)\n",
    "ep_distr1 = ep_distr1.fit(nr)\n",
    "ep_distr2 = ep_distr2.fit(nr)"
   ]
  },
  {
   "cell_type": "code",
   "execution_count": 6,
   "metadata": {
    "collapsed": false,
    "scrolled": true
   },
   "outputs": [
    {
     "data": {
      "image/png": "[encoded data removed]",
      "text/plain": [
       "<matplotlib.figure.Figure at 0x10c850198>"
      ]
     },
     "metadata": {},
     "output_type": "display_data"
    }
   ],
   "source": [
    "%matplotlib inline\n",
    "\n",
    "import seaborn\n",
    "seaborn.mpl.rcParams['figure.figsize'] = (7.0, 4.0)\n",
    "seaborn.mpl.rcParams['savefig.dpi'] = 100\n",
    "\n",
    "import matplotlib\n",
    "import matplotlib.pyplot as plt\n",
    "\n",
    "import pandas as pd\n",
    "\n",
    "data = pd.Series(nr)\n",
    "ax = data.plot(kind='hist', bins=10, normed=True, alpha=0.2, label='Sampled random observations', legend=True)\n",
    "\n",
    "x = np.linspace(-5, 40, 1000)\n",
    "y1 = ep_distr1.pdf(x)\n",
    "y2 = ep_distr2.pdf(x)\n",
    "\n",
    "ax = pd.Series(y1, x).plot(label='Estimated density function 1', legend=True, ax=ax)\n",
    "\n",
    "ax = pd.Series(y2, x).plot(label='Estimated density function 2', legend=True, ax=ax)\n",
    "\n",
    "\n"
   ]
  },
  {
   "cell_type": "code",
   "execution_count": null,
   "metadata": {
    "collapsed": true
   },
   "outputs": [],
   "source": []
  }
 ],
 "metadata": {
  "anaconda-cloud": {},
  "kernelspec": {
   "display_name": "Python [conda root]",
   "language": "python",
   "name": "conda-root-py"
  },
  "language_info": {
   "codemirror_mode": {
    "name": "ipython",
    "version": 3
   },
   "file_extension": ".py",
   "mimetype": "text/x-python",
   "name": "python",
   "nbconvert_exporter": "python",
   "pygments_lexer": "ipython3",
   "version": "3.5.2"
  },
  "widgets": {
   "state": {},
   "version": "1.1.2"
  }
 },
 "nbformat": 4,
 "nbformat_minor": 0
}
